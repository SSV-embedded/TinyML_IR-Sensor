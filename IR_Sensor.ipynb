{
  "nbformat": 4,
  "nbformat_minor": 0,
  "metadata": {
    "colab": {
      "name": "IR_Sensor.ipynb",
      "provenance": []
    },
    "kernelspec": {
      "name": "python3",
      "display_name": "Python 3"
    },
    "language_info": {
      "name": "python"
    }
  },
  "cells": [
    {
      "cell_type": "markdown",
      "metadata": {
        "id": "6GHIoU7kXfnE"
      },
      "source": [
        "# TinyML IR-Sensor "
      ]
    },
    {
      "cell_type": "markdown",
      "metadata": {
        "id": "koV4UI-9XoSF"
      },
      "source": [
        "## 1. Set the environment "
      ]
    },
    {
      "cell_type": "code",
      "metadata": {
        "id": "oBmsxQNfuWn5",
        "colab": {
          "base_uri": "https://localhost:8080/"
        },
        "outputId": "8adb8e06-a960-44bb-eeb0-8ac80f676b89"
      },
      "source": [
        "from google.colab import drive\n",
        "drive.mount('/content/drive')"
      ],
      "execution_count": null,
      "outputs": [
        {
          "output_type": "stream",
          "text": [
            "Drive already mounted at /content/drive; to attempt to forcibly remount, call drive.mount(\"/content/drive\", force_remount=True).\n"
          ],
          "name": "stdout"
        }
      ]
    },
    {
      "cell_type": "code",
      "metadata": {
        "colab": {
          "base_uri": "https://localhost:8080/"
        },
        "id": "l-4rLNV9uce_",
        "outputId": "c1da603c-6b15-40a5-8514-9a663424e4c1"
      },
      "source": [
        "!pip install tensorflow==2.0.0-beta0 #Install Tensor Flow\n",
        "import tensorflow as tf"
      ],
      "execution_count": 1,
      "outputs": [
        {
          "output_type": "stream",
          "name": "stdout",
          "text": [
            "Requirement already satisfied: tensorflow==2.0.0-beta0 in /usr/local/lib/python3.7/dist-packages (2.0.0b0)\n",
            "Requirement already satisfied: wheel>=0.26 in /usr/local/lib/python3.7/dist-packages (from tensorflow==2.0.0-beta0) (0.37.0)\n",
            "Requirement already satisfied: six>=1.10.0 in /usr/local/lib/python3.7/dist-packages (from tensorflow==2.0.0-beta0) (1.15.0)\n",
            "Requirement already satisfied: tf-estimator-nightly<1.14.0.dev2019060502,>=1.14.0.dev2019060501 in /usr/local/lib/python3.7/dist-packages (from tensorflow==2.0.0-beta0) (1.14.0.dev2019060501)\n",
            "Requirement already satisfied: numpy<2.0,>=1.14.5 in /usr/local/lib/python3.7/dist-packages (from tensorflow==2.0.0-beta0) (1.19.5)\n",
            "Requirement already satisfied: termcolor>=1.1.0 in /usr/local/lib/python3.7/dist-packages (from tensorflow==2.0.0-beta0) (1.1.0)\n",
            "Requirement already satisfied: absl-py>=0.7.0 in /usr/local/lib/python3.7/dist-packages (from tensorflow==2.0.0-beta0) (0.12.0)\n",
            "Requirement already satisfied: protobuf>=3.6.1 in /usr/local/lib/python3.7/dist-packages (from tensorflow==2.0.0-beta0) (3.17.3)\n",
            "Requirement already satisfied: grpcio>=1.8.6 in /usr/local/lib/python3.7/dist-packages (from tensorflow==2.0.0-beta0) (1.39.0)\n",
            "Requirement already satisfied: gast>=0.2.0 in /usr/local/lib/python3.7/dist-packages (from tensorflow==2.0.0-beta0) (0.4.0)\n",
            "Requirement already satisfied: google-pasta>=0.1.6 in /usr/local/lib/python3.7/dist-packages (from tensorflow==2.0.0-beta0) (0.2.0)\n",
            "Requirement already satisfied: astor>=0.6.0 in /usr/local/lib/python3.7/dist-packages (from tensorflow==2.0.0-beta0) (0.8.1)\n",
            "Requirement already satisfied: keras-preprocessing>=1.0.5 in /usr/local/lib/python3.7/dist-packages (from tensorflow==2.0.0-beta0) (1.1.2)\n",
            "Requirement already satisfied: tb-nightly<1.14.0a20190604,>=1.14.0a20190603 in /usr/local/lib/python3.7/dist-packages (from tensorflow==2.0.0-beta0) (1.14.0a20190603)\n",
            "Requirement already satisfied: keras-applications>=1.0.6 in /usr/local/lib/python3.7/dist-packages (from tensorflow==2.0.0-beta0) (1.0.8)\n",
            "Requirement already satisfied: wrapt>=1.11.1 in /usr/local/lib/python3.7/dist-packages (from tensorflow==2.0.0-beta0) (1.12.1)\n",
            "Requirement already satisfied: h5py in /usr/local/lib/python3.7/dist-packages (from keras-applications>=1.0.6->tensorflow==2.0.0-beta0) (2.10.0)\n",
            "Requirement already satisfied: setuptools>=41.0.0 in /usr/local/lib/python3.7/dist-packages (from tb-nightly<1.14.0a20190604,>=1.14.0a20190603->tensorflow==2.0.0-beta0) (57.4.0)\n",
            "Requirement already satisfied: markdown>=2.6.8 in /usr/local/lib/python3.7/dist-packages (from tb-nightly<1.14.0a20190604,>=1.14.0a20190603->tensorflow==2.0.0-beta0) (3.3.4)\n",
            "Requirement already satisfied: werkzeug>=0.11.15 in /usr/local/lib/python3.7/dist-packages (from tb-nightly<1.14.0a20190604,>=1.14.0a20190603->tensorflow==2.0.0-beta0) (1.0.1)\n",
            "Requirement already satisfied: importlib-metadata in /usr/local/lib/python3.7/dist-packages (from markdown>=2.6.8->tb-nightly<1.14.0a20190604,>=1.14.0a20190603->tensorflow==2.0.0-beta0) (4.6.4)\n",
            "Requirement already satisfied: typing-extensions>=3.6.4 in /usr/local/lib/python3.7/dist-packages (from importlib-metadata->markdown>=2.6.8->tb-nightly<1.14.0a20190604,>=1.14.0a20190603->tensorflow==2.0.0-beta0) (3.7.4.3)\n",
            "Requirement already satisfied: zipp>=0.5 in /usr/local/lib/python3.7/dist-packages (from importlib-metadata->markdown>=2.6.8->tb-nightly<1.14.0a20190604,>=1.14.0a20190603->tensorflow==2.0.0-beta0) (3.5.0)\n"
          ]
        },
        {
          "output_type": "stream",
          "name": "stderr",
          "text": [
            "/usr/local/lib/python3.7/dist-packages/tensorflow/python/framework/dtypes.py:516: FutureWarning: Passing (type, 1) or '1type' as a synonym of type is deprecated; in a future version of numpy, it will be understood as (type, (1,)) / '(1,)type'.\n",
            "  _np_qint8 = np.dtype([(\"qint8\", np.int8, 1)])\n",
            "/usr/local/lib/python3.7/dist-packages/tensorflow/python/framework/dtypes.py:517: FutureWarning: Passing (type, 1) or '1type' as a synonym of type is deprecated; in a future version of numpy, it will be understood as (type, (1,)) / '(1,)type'.\n",
            "  _np_quint8 = np.dtype([(\"quint8\", np.uint8, 1)])\n",
            "/usr/local/lib/python3.7/dist-packages/tensorflow/python/framework/dtypes.py:518: FutureWarning: Passing (type, 1) or '1type' as a synonym of type is deprecated; in a future version of numpy, it will be understood as (type, (1,)) / '(1,)type'.\n",
            "  _np_qint16 = np.dtype([(\"qint16\", np.int16, 1)])\n",
            "/usr/local/lib/python3.7/dist-packages/tensorflow/python/framework/dtypes.py:519: FutureWarning: Passing (type, 1) or '1type' as a synonym of type is deprecated; in a future version of numpy, it will be understood as (type, (1,)) / '(1,)type'.\n",
            "  _np_quint16 = np.dtype([(\"quint16\", np.uint16, 1)])\n",
            "/usr/local/lib/python3.7/dist-packages/tensorflow/python/framework/dtypes.py:520: FutureWarning: Passing (type, 1) or '1type' as a synonym of type is deprecated; in a future version of numpy, it will be understood as (type, (1,)) / '(1,)type'.\n",
            "  _np_qint32 = np.dtype([(\"qint32\", np.int32, 1)])\n",
            "/usr/local/lib/python3.7/dist-packages/tensorflow/python/framework/dtypes.py:525: FutureWarning: Passing (type, 1) or '1type' as a synonym of type is deprecated; in a future version of numpy, it will be understood as (type, (1,)) / '(1,)type'.\n",
            "  np_resource = np.dtype([(\"resource\", np.ubyte, 1)])\n",
            "/usr/local/lib/python3.7/dist-packages/tensorboard/compat/tensorflow_stub/dtypes.py:541: FutureWarning: Passing (type, 1) or '1type' as a synonym of type is deprecated; in a future version of numpy, it will be understood as (type, (1,)) / '(1,)type'.\n",
            "  _np_qint8 = np.dtype([(\"qint8\", np.int8, 1)])\n",
            "/usr/local/lib/python3.7/dist-packages/tensorboard/compat/tensorflow_stub/dtypes.py:542: FutureWarning: Passing (type, 1) or '1type' as a synonym of type is deprecated; in a future version of numpy, it will be understood as (type, (1,)) / '(1,)type'.\n",
            "  _np_quint8 = np.dtype([(\"quint8\", np.uint8, 1)])\n",
            "/usr/local/lib/python3.7/dist-packages/tensorboard/compat/tensorflow_stub/dtypes.py:543: FutureWarning: Passing (type, 1) or '1type' as a synonym of type is deprecated; in a future version of numpy, it will be understood as (type, (1,)) / '(1,)type'.\n",
            "  _np_qint16 = np.dtype([(\"qint16\", np.int16, 1)])\n",
            "/usr/local/lib/python3.7/dist-packages/tensorboard/compat/tensorflow_stub/dtypes.py:544: FutureWarning: Passing (type, 1) or '1type' as a synonym of type is deprecated; in a future version of numpy, it will be understood as (type, (1,)) / '(1,)type'.\n",
            "  _np_quint16 = np.dtype([(\"quint16\", np.uint16, 1)])\n",
            "/usr/local/lib/python3.7/dist-packages/tensorboard/compat/tensorflow_stub/dtypes.py:545: FutureWarning: Passing (type, 1) or '1type' as a synonym of type is deprecated; in a future version of numpy, it will be understood as (type, (1,)) / '(1,)type'.\n",
            "  _np_qint32 = np.dtype([(\"qint32\", np.int32, 1)])\n",
            "/usr/local/lib/python3.7/dist-packages/tensorboard/compat/tensorflow_stub/dtypes.py:550: FutureWarning: Passing (type, 1) or '1type' as a synonym of type is deprecated; in a future version of numpy, it will be understood as (type, (1,)) / '(1,)type'.\n",
            "  np_resource = np.dtype([(\"resource\", np.ubyte, 1)])\n"
          ]
        }
      ]
    },
    {
      "cell_type": "markdown",
      "metadata": {
        "id": "A6oC-l_b-dtE"
      },
      "source": [
        "## 2. Data Preparation "
      ]
    },
    {
      "cell_type": "code",
      "metadata": {
        "colab": {
          "base_uri": "https://localhost:8080/"
        },
        "id": "4CVh5wtRu740",
        "outputId": "01911072-8850-4eb1-97e2-d4b01905e49a"
      },
      "source": [
        "%matplotlib inline\n",
        "import pandas as pd\n",
        "import matplotlib.pyplot as plt\n",
        "from datetime import datetime\n",
        "\n",
        "url = \"/content/drive/MyDrive/dataset.csv\"\n",
        "#url = 'https://raw.githubusercontent.com/SSV-embedded/TinyML_IR-Sensor/main/dataset.csv'\n",
        "\n",
        "#there has to be a more elegant way of doing this...\n",
        "names = [\"Date\", \"data0\", \"data1\", \"data2\", \"data3\", \"data4\", \"data5\", \"data6\", \\\n",
        "         \"data7\", \"data8\", \"data9\", \"data10\", \"data11\", \"data12\", \"data13\", \"data14\", \\\n",
        "         \"data15\", \"data16\", \"data17\", \"data18\", \"data19\", \"data20\", \"data21\", \"data22\", \\\n",
        "         \"data23\", \"data24\", \"data25\", \"data26\", \"data27\", \"data28\", \"data29\", \"data30\", \\\n",
        "         \"data31\", \"data32\", \"data33\", \"data34\", \"data35\", \"data36\", \"data37\", \"data38\", \\\n",
        "         \"data39\", \"data40\", \"data41\", \"data42\", \"data43\", \"data44\", \"data45\", \"data46\",\\\n",
        "         \"data47\", \"data48\", \"data49\", \"data50\", \"data51\", \"data52\", \"data53\", \"data54\", \\\n",
        "         \"data55\", \"data56\", \"data57\", \"data58\", \"data59\", \"data60\", \"data61\", \"data62\", \\\n",
        "         \"data63\", \"label\"]\n",
        "\n",
        "num_classes=2\n",
        "input = 64 \n",
        "\n",
        "df = pd.read_csv(url, header=None, names=names, parse_dates=True, sep=',')\n",
        "df[\"Date\"] = pd.to_datetime(df[\"Date\"]) \n",
        "df.index = df[\"Date\"]\n",
        "del df[\"Date\"]\n",
        "\n",
        "print(df)"
      ],
      "execution_count": 2,
      "outputs": [
        {
          "output_type": "stream",
          "name": "stdout",
          "text": [
            "                     data0  data1  data2  data3  ...  data61  data62  data63  label\n",
            "Date                                             ...                               \n",
            "2021-06-01 07:01:29  22.75  23.00  23.00  23.00  ...   22.75   23.00   23.25      0\n",
            "2021-06-01 07:01:30  23.00  22.75  23.50  22.75  ...   22.75   22.50   23.00      0\n",
            "2021-06-01 07:01:31  22.75  22.50  23.25  22.25  ...   22.50   22.50   23.25      0\n",
            "2021-06-01 07:01:32  22.75  22.50  22.75  22.25  ...   22.25   23.25   23.00      0\n",
            "2021-06-01 07:01:33  22.75  22.50  22.75  22.25  ...   22.50   23.00   22.50      0\n",
            "...                    ...    ...    ...    ...  ...     ...     ...     ...    ...\n",
            "2021-06-07 07:14:54  25.75  26.50  29.00  29.75  ...   29.75   29.25   28.25      1\n",
            "2021-06-07 07:14:55  26.00  26.25  28.75  29.75  ...   30.75   29.00   28.50      1\n",
            "2021-06-07 07:14:57  25.50  26.00  28.50  29.50  ...   30.00   28.25   27.75      1\n",
            "2021-06-07 07:14:58  25.25  26.25  28.50  29.50  ...   30.00   28.25   27.50      1\n",
            "2021-06-07 07:14:59  25.50  26.00  28.75  30.00  ...   30.50   28.50   27.75      1\n",
            "\n",
            "[201 rows x 65 columns]\n"
          ]
        }
      ]
    },
    {
      "cell_type": "code",
      "metadata": {
        "id": "_EHgAgZsUn0_"
      },
      "source": [
        "#Separate labels from the dataset \n",
        "df_label =  pd.concat([df.pop(x) for x in ['label']], axis = 1)\n",
        "\n",
        "#Debug print\n",
        "#print(df.head(10))\n",
        "#print(df_label.head(10))"
      ],
      "execution_count": 3,
      "outputs": []
    },
    {
      "cell_type": "code",
      "metadata": {
        "colab": {
          "base_uri": "https://localhost:8080/",
          "height": 281
        },
        "id": "BPrw0cwTrs3v",
        "outputId": "2bd42632-4f70-499e-fd49-a730c213361d"
      },
      "source": [
        "import numpy as np \n",
        "#Select row from the dataset which will be visualized\n",
        "row = 2\n",
        "data =df[row:row+1]\n",
        "data = np.array(data, dtype = np.float32 )\n",
        "\n",
        "i_size=np.sqrt(data.size)\n",
        "i_size=np.array(i_size, dtype=np.int)\n",
        "data = np.reshape(data, (i_size, i_size))\n",
        "\n",
        "\n",
        "plt.imshow(data, interpolation='nearest')\n",
        "plt.title('Data visualization')\n",
        "plt.colorbar()\n",
        "plt.show()\n",
        "#print(train_labels[row:row+1])"
      ],
      "execution_count": 4,
      "outputs": [
        {
          "output_type": "display_data",
          "data": {
            "image/png": "[encoded data removed]",
            "text/plain": [
              "<Figure size 432x288 with 2 Axes>"
            ]
          },
          "metadata": {
            "needs_background": "light"
          }
        }
      ]
    },
    {
      "cell_type": "code",
      "metadata": {
        "colab": {
          "base_uri": "https://localhost:8080/"
        },
        "id": "GUb1zJZ7GBwq",
        "outputId": "26cde14b-69a7-4d06-c75b-e06c7ff6575d"
      },
      "source": [
        "min = df.min().min()\n",
        "max = df.max().max()\n",
        "\n",
        "print(\"min:\", min)\n",
        "print(\"max:\", max)\n",
        "df_norm = (df - min) / (max - min) \n",
        "\n",
        "print(df_norm.head())"
      ],
      "execution_count": 5,
      "outputs": [
        {
          "output_type": "stream",
          "name": "stdout",
          "text": [
            "min: 21.75\n",
            "max: 51.0\n",
            "                        data0     data1     data2  ...    data61    data62    data63\n",
            "Date                                               ...                              \n",
            "2021-06-01 07:01:29  0.034188  0.042735  0.042735  ...  0.034188  0.042735  0.051282\n",
            "2021-06-01 07:01:30  0.042735  0.034188  0.059829  ...  0.034188  0.025641  0.042735\n",
            "2021-06-01 07:01:31  0.034188  0.025641  0.051282  ...  0.025641  0.025641  0.051282\n",
            "2021-06-01 07:01:32  0.034188  0.025641  0.034188  ...  0.017094  0.051282  0.042735\n",
            "2021-06-01 07:01:33  0.034188  0.025641  0.034188  ...  0.025641  0.042735  0.025641\n",
            "\n",
            "[5 rows x 64 columns]\n"
          ]
        }
      ]
    },
    {
      "cell_type": "code",
      "metadata": {
        "id": "iJXicDz4e1lK"
      },
      "source": [
        "#Set Dataset \n",
        "train_dataset = df_norm.sample(frac=0.8, random_state=0)\n",
        "test_dataset = df_norm.drop(train_dataset.index)\n",
        "\n",
        "#Set Labels \n",
        "train_labels = df_label.sample(frac=0.8, random_state=0)\n",
        "test_labels = df_label.drop(train_dataset.index)\n",
        "\n",
        "#Debug print\n",
        "#print(train_labels)\n",
        "#print(train_dataset)"
      ],
      "execution_count": 6,
      "outputs": []
    },
    {
      "cell_type": "markdown",
      "metadata": {
        "id": "ACcyRkpBf6Cx"
      },
      "source": [
        "## 3. Train the model\n"
      ]
    },
    {
      "cell_type": "code",
      "metadata": {
        "colab": {
          "base_uri": "https://localhost:8080/"
        },
        "id": "vmeZ9iKPKWc4",
        "outputId": "9bedfdd0-239b-485d-81d7-69643f6b195e"
      },
      "source": [
        "import tensorflow as tf\n",
        "from tensorflow import keras\n",
        "from tensorflow.keras import layers\n",
        "from tensorflow.keras.utils import to_categorical\n",
        "\n",
        "model = tf.keras.Sequential([\n",
        "      layers.Dense(num_classes, activation = 'sigmoid', input_shape=(input,)),\n",
        "])\n",
        "\n",
        "model.summary()"
      ],
      "execution_count": 7,
      "outputs": [
        {
          "output_type": "stream",
          "name": "stdout",
          "text": [
            "Model: \"sequential\"\n",
            "_________________________________________________________________\n",
            "Layer (type)                 Output Shape              Param #   \n",
            "=================================================================\n",
            "dense (Dense)                (None, 2)                 130       \n",
            "=================================================================\n",
            "Total params: 130\n",
            "Trainable params: 130\n",
            "Non-trainable params: 0\n",
            "_________________________________________________________________\n"
          ]
        }
      ]
    },
    {
      "cell_type": "code",
      "metadata": {
        "id": "gIKzDdXMaNmh"
      },
      "source": [
        "from tensorflow.keras.optimizers import Adam\n",
        "\n",
        "model.compile(\n",
        "    optimizer=Adam(lr= 0.005), \n",
        "    loss = 'categorical_crossentropy', \n",
        "    metrics = ['accuracy'],\n",
        ")"
      ],
      "execution_count": 8,
      "outputs": []
    },
    {
      "cell_type": "code",
      "metadata": {
        "colab": {
          "base_uri": "https://localhost:8080/"
        },
        "id": "BaIDxTNIbHpl",
        "outputId": "9c6d8f23-3b57-4bd2-dc2b-a7d9bee019c0"
      },
      "source": [
        "history = model.fit(\n",
        "    train_dataset,\n",
        "    to_categorical(train_labels),\n",
        "    validation_split=0.2, \n",
        "    epochs = 20, \n",
        "    batch_size = 32, \n",
        ")"
      ],
      "execution_count": 9,
      "outputs": [
        {
          "output_type": "stream",
          "name": "stdout",
          "text": [
            "WARNING:tensorflow:From /usr/local/lib/python3.7/dist-packages/tensorflow/python/ops/math_grad.py:1250: add_dispatch_support.<locals>.wrapper (from tensorflow.python.ops.array_ops) is deprecated and will be removed in a future version.\n",
            "Instructions for updating:\n",
            "Use tf.where in 2.0, which has the same broadcast rule as np.where\n",
            "Train on 128 samples, validate on 33 samples\n",
            "Epoch 1/20\n",
            "128/128 [==============================] - 0s 1ms/sample - loss: 0.6680 - accuracy: 0.4922 - val_loss: 0.6277 - val_accuracy: 0.5455\n",
            "Epoch 2/20\n",
            "128/128 [==============================] - 0s 113us/sample - loss: 0.6339 - accuracy: 0.4922 - val_loss: 0.5940 - val_accuracy: 0.5455\n",
            "Epoch 3/20\n",
            "128/128 [==============================] - 0s 118us/sample - loss: 0.6095 - accuracy: 0.4922 - val_loss: 0.5712 - val_accuracy: 0.5455\n",
            "Epoch 4/20\n",
            "128/128 [==============================] - 0s 156us/sample - loss: 0.5983 - accuracy: 0.4922 - val_loss: 0.5535 - val_accuracy: 0.5455\n",
            "Epoch 5/20\n",
            "128/128 [==============================] - 0s 117us/sample - loss: 0.5829 - accuracy: 0.4922 - val_loss: 0.5398 - val_accuracy: 0.5455\n",
            "Epoch 6/20\n",
            "128/128 [==============================] - 0s 121us/sample - loss: 0.5709 - accuracy: 0.4922 - val_loss: 0.5274 - val_accuracy: 0.5455\n",
            "Epoch 7/20\n",
            "128/128 [==============================] - 0s 130us/sample - loss: 0.5586 - accuracy: 0.4922 - val_loss: 0.5155 - val_accuracy: 0.5455\n",
            "Epoch 8/20\n",
            "128/128 [==============================] - 0s 139us/sample - loss: 0.5457 - accuracy: 0.4922 - val_loss: 0.5040 - val_accuracy: 0.5455\n",
            "Epoch 9/20\n",
            "128/128 [==============================] - 0s 185us/sample - loss: 0.5327 - accuracy: 0.4922 - val_loss: 0.4931 - val_accuracy: 0.5455\n",
            "Epoch 10/20\n",
            "128/128 [==============================] - 0s 150us/sample - loss: 0.5197 - accuracy: 0.4922 - val_loss: 0.4827 - val_accuracy: 0.6061\n",
            "Epoch 11/20\n",
            "128/128 [==============================] - 0s 131us/sample - loss: 0.5070 - accuracy: 0.5547 - val_loss: 0.4725 - val_accuracy: 0.6667\n",
            "Epoch 12/20\n",
            "128/128 [==============================] - 0s 156us/sample - loss: 0.4953 - accuracy: 0.6172 - val_loss: 0.4627 - val_accuracy: 0.6970\n",
            "Epoch 13/20\n",
            "128/128 [==============================] - 0s 171us/sample - loss: 0.4826 - accuracy: 0.6875 - val_loss: 0.4522 - val_accuracy: 0.8182\n",
            "Epoch 14/20\n",
            "128/128 [==============================] - 0s 185us/sample - loss: 0.4701 - accuracy: 0.7656 - val_loss: 0.4404 - val_accuracy: 0.8485\n",
            "Epoch 15/20\n",
            "128/128 [==============================] - 0s 205us/sample - loss: 0.4578 - accuracy: 0.7891 - val_loss: 0.4289 - val_accuracy: 0.9091\n",
            "Epoch 16/20\n",
            "128/128 [==============================] - 0s 209us/sample - loss: 0.4458 - accuracy: 0.8438 - val_loss: 0.4179 - val_accuracy: 0.9697\n",
            "Epoch 17/20\n",
            "128/128 [==============================] - 0s 188us/sample - loss: 0.4339 - accuracy: 0.9062 - val_loss: 0.4072 - val_accuracy: 0.9697\n",
            "Epoch 18/20\n",
            "128/128 [==============================] - 0s 248us/sample - loss: 0.4219 - accuracy: 0.9844 - val_loss: 0.3964 - val_accuracy: 1.0000\n",
            "Epoch 19/20\n",
            "128/128 [==============================] - 0s 166us/sample - loss: 0.4102 - accuracy: 0.9922 - val_loss: 0.3858 - val_accuracy: 1.0000\n",
            "Epoch 20/20\n",
            "128/128 [==============================] - 0s 172us/sample - loss: 0.3990 - accuracy: 1.0000 - val_loss: 0.3757 - val_accuracy: 1.0000\n"
          ]
        }
      ]
    },
    {
      "cell_type": "code",
      "metadata": {
        "colab": {
          "base_uri": "https://localhost:8080/"
        },
        "id": "GqCM8HWqdqDQ",
        "outputId": "19416f84-ee6f-40fd-b2d4-18a78373ef73"
      },
      "source": [
        "model.evaluate(\n",
        "    test_dataset, \n",
        "    to_categorical(test_labels)\n",
        ")"
      ],
      "execution_count": 10,
      "outputs": [
        {
          "output_type": "stream",
          "name": "stdout",
          "text": [
            "40/40 [==============================] - 0s 718us/sample - loss: 0.3726 - accuracy: 1.0000\n"
          ]
        },
        {
          "output_type": "execute_result",
          "data": {
            "text/plain": [
              "[0.3725602090358734, 1.0]"
            ]
          },
          "metadata": {},
          "execution_count": 10
        }
      ]
    },
    {
      "cell_type": "code",
      "metadata": {
        "colab": {
          "base_uri": "https://localhost:8080/",
          "height": 295
        },
        "id": "o8T1_E3n45tl",
        "outputId": "3b98f1ee-ea14-400a-ffb9-83b0f7e0bb2e"
      },
      "source": [
        "#Graphing the History\n",
        "\n",
        "loss = history.history['loss']\n",
        "val_loss = history.history['val_loss']\n",
        "epochs= range(1,len(loss)+1)\n",
        "\n",
        "plt.plot(epochs, loss, 'g.', label= 'Training loss')\n",
        "plt.plot(epochs, val_loss, 'b.', label='Validation loss')\n",
        "plt.title('Training and validation loss')\n",
        "plt.xlabel('Epochs')\n",
        "plt.ylabel('Loss')\n",
        "plt.legend() \n",
        "plt.show() "
      ],
      "execution_count": 11,
      "outputs": [
        {
          "output_type": "display_data",
          "data": {
            "image/png": "[encoded data removed]",
            "text/plain": [
              "<Figure size 432x288 with 1 Axes>"
            ]
          },
          "metadata": {
            "needs_background": "light"
          }
        }
      ]
    },
    {
      "cell_type": "code",
      "metadata": {
        "id": "4ADCaCkifqEb"
      },
      "source": [
        "model.save(\"/content/IR_Sensor.h5\")"
      ],
      "execution_count": 12,
      "outputs": []
    },
    {
      "cell_type": "markdown",
      "metadata": {
        "id": "xIMG9-gEwKc6"
      },
      "source": [
        "## 4. Convert the Model to a Tiny ML & Classification\n"
      ]
    },
    {
      "cell_type": "code",
      "metadata": {
        "colab": {
          "base_uri": "https://localhost:8080/"
        },
        "id": "R_jFbyCRf-oZ",
        "outputId": "4eed0eba-50bb-408d-97e1-59830640fbfe"
      },
      "source": [
        "import tensorflow as tf \n",
        "from tensorflow import keras\n",
        "!pip install 'h5py<3.0.0'\n",
        "\n",
        "model = keras.models.load_model(\"/content/IR_Sensor.h5\")\n",
        "converter = tf.lite.TFLiteConverter.from_keras_model(model)\n",
        "tflite_model=converter.convert() \n",
        "open('IR_Sensor.tflite', 'wb').write(tflite_model)"
      ],
      "execution_count": 13,
      "outputs": [
        {
          "output_type": "stream",
          "name": "stdout",
          "text": [
            "Requirement already satisfied: h5py<3.0.0 in /usr/local/lib/python3.7/dist-packages (2.10.0)\n",
            "Requirement already satisfied: six in /usr/local/lib/python3.7/dist-packages (from h5py<3.0.0) (1.15.0)\n",
            "Requirement already satisfied: numpy>=1.7 in /usr/local/lib/python3.7/dist-packages (from h5py<3.0.0) (1.19.5)\n",
            "WARNING:tensorflow:Entity <function Function._initialize_uninitialized_variables.<locals>.initialize_variables at 0x7f6026b010e0> could not be transformed and will be executed as-is. Please report this to the AutoGraph team. When filing the bug, set the verbosity to 10 (on Linux, `export AUTOGRAPH_VERBOSITY=10`) and attach the full output. Cause: converting <function Function._initialize_uninitialized_variables.<locals>.initialize_variables at 0x7f6026b010e0>: AttributeError: module 'gast' has no attribute 'Index'\n",
            "WARNING: Entity <function Function._initialize_uninitialized_variables.<locals>.initialize_variables at 0x7f6026b010e0> could not be transformed and will be executed as-is. Please report this to the AutoGraph team. When filing the bug, set the verbosity to 10 (on Linux, `export AUTOGRAPH_VERBOSITY=10`) and attach the full output. Cause: converting <function Function._initialize_uninitialized_variables.<locals>.initialize_variables at 0x7f6026b010e0>: AttributeError: module 'gast' has no attribute 'Index'\n",
            "INFO:tensorflow:Converted 2 variables to const ops.\n"
          ]
        },
        {
          "output_type": "execute_result",
          "data": {
            "text/plain": [
              "1320"
            ]
          },
          "metadata": {},
          "execution_count": 13
        }
      ]
    },
    {
      "cell_type": "code",
      "metadata": {
        "id": "B7ozCLXf_J1H"
      },
      "source": [
        "import numpy as np \n",
        "import pandas as pd\n",
        "\n",
        "url = \"/content/drive/MyDrive/data.csv\"\n",
        "\n",
        "#there has to be a more elegant way of doing this...\n",
        "names = [\"Date\", \"data0\", \"data1\", \"data2\", \"data3\", \"data4\", \"data5\", \"data6\", \\\n",
        "         \"data7\", \"data8\", \"data9\", \"data10\", \"data11\", \"data12\", \"data13\", \"data14\", \\\n",
        "         \"data15\", \"data16\", \"data17\", \"data18\", \"data19\", \"data20\", \"data21\", \"data22\", \\\n",
        "         \"data23\", \"data24\", \"data25\", \"data26\", \"data27\", \"data28\", \"data29\", \"data30\", \\\n",
        "         \"data31\", \"data32\", \"data33\", \"data34\", \"data35\", \"data36\", \"data37\", \"data38\", \\\n",
        "         \"data39\", \"data40\", \"data41\", \"data42\", \"data43\", \"data44\", \"data45\", \"data46\",\\\n",
        "         \"data47\", \"data48\", \"data49\", \"data50\", \"data51\", \"data52\", \"data53\", \"data54\", \\\n",
        "         \"data55\", \"data56\", \"data57\", \"data58\", \"data59\", \"data60\", \"data61\", \"data62\", \\\n",
        "         \"data63\"]\n",
        "\n",
        "num_classes=2\n",
        "input = 64 \n",
        "\n",
        "df_val = pd.read_csv(url, header=None, names=names, parse_dates=True, sep=',')\n",
        "df_val[\"Date\"] = pd.to_datetime(df_val[\"Date\"]) \n",
        "df_val.index = df_val[\"Date\"]\n",
        "del df_val[\"Date\"]\n",
        "\n",
        "val_data = np.array(df_val, dtype = np.float32 )\n",
        "val_data = np.reshape(val_data, (1,input))\n",
        "\n",
        "#Normalize the data first. Min and max have already been determined during the Data Preparation \n",
        "min = 21.75\n",
        "max = 51.0\n",
        "val= (val_data - min) / (max - min) "
      ],
      "execution_count": 14,
      "outputs": []
    },
    {
      "cell_type": "code",
      "metadata": {
        "colab": {
          "base_uri": "https://localhost:8080/"
        },
        "id": "_-Ece1Mync69",
        "outputId": "6a69e59c-fdbb-46f5-c599-d7715ede91cb"
      },
      "source": [
        "interpreter = tf.lite.Interpreter(model_path=\"IR_Sensor.tflite\")\n",
        "interpreter.allocate_tensors()\n",
        "\n",
        "input_details = interpreter.get_input_details()\n",
        "output_details = interpreter.get_output_details()\n",
        "\n",
        "#print(\"Input Details:\", input_details)\n",
        "#print(\"Output shape:\", output_details[0]['shape']) \n",
        "\n",
        "interpreter.set_tensor(interpreter.get_input_details()[0][\"index\"], val)\n",
        "interpreter.invoke()\n",
        "output = interpreter.get_tensor(output_details[0]['index'])\n",
        "pred_tiny = np.argmax(output)\n",
        "\n",
        "ts = np.array(df_val.index)\n",
        "prediction = pd.DataFrame({'Date':ts, 'Prediction': pred_tiny})\n",
        "prediction[\"Date\"] = pd.to_datetime(prediction[\"Date\"]) \n",
        "prediction.index = prediction[\"Date\"]\n",
        "del prediction[\"Date\"]\n",
        "\n",
        "print(prediction)"
      ],
      "execution_count": 15,
      "outputs": [
        {
          "output_type": "stream",
          "name": "stdout",
          "text": [
            "                     Prediction\n",
            "Date                           \n",
            "2021-06-01 07:01:37           0\n"
          ]
        }
      ]
    },
    {
      "cell_type": "markdown",
      "metadata": {
        "id": "_jjxCkvf9LvG"
      },
      "source": [
        ""
      ]
    }
  ]
}